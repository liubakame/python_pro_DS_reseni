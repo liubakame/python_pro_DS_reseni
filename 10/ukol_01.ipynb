{
 "cells": [
  {
   "cell_type": "code",
   "execution_count": 1,
   "metadata": {},
   "outputs": [],
   "source": [
    "import pandas as pd\n",
    "import numpy as np\n",
    "from sklearn.feature_extraction.text import TfidfVectorizer\n",
    "from sklearn.metrics.pairwise import cosine_similarity\n",
    "from sklearn.metrics import jaccard_score\n",
    "from scipy.spatial.distance import pdist, squareform"
   ]
  },
  {
   "cell_type": "code",
   "execution_count": 3,
   "metadata": {},
   "outputs": [
    {
     "data": {
      "text/html": [
       "<div>\n",
       "<style scoped>\n",
       "    .dataframe tbody tr th:only-of-type {\n",
       "        vertical-align: middle;\n",
       "    }\n",
       "\n",
       "    .dataframe tbody tr th {\n",
       "        vertical-align: top;\n",
       "    }\n",
       "\n",
       "    .dataframe thead th {\n",
       "        text-align: right;\n",
       "    }\n",
       "</style>\n",
       "<table border=\"1\" class=\"dataframe\">\n",
       "  <thead>\n",
       "    <tr style=\"text-align: right;\">\n",
       "      <th></th>\n",
       "      <th>gen_Action</th>\n",
       "      <th>gen_Adventure</th>\n",
       "      <th>gen_Animation</th>\n",
       "      <th>gen_Comedy</th>\n",
       "      <th>gen_Crime</th>\n",
       "      <th>gen_Documentary</th>\n",
       "      <th>gen_Drama</th>\n",
       "      <th>gen_Family</th>\n",
       "      <th>gen_Fantasy</th>\n",
       "      <th>gen_Foreign</th>\n",
       "      <th>gen_History</th>\n",
       "      <th>gen_Horror</th>\n",
       "      <th>gen_Music</th>\n",
       "      <th>gen_Mystery</th>\n",
       "      <th>gen_Romance</th>\n",
       "      <th>gen_Science Fiction</th>\n",
       "      <th>gen_TV Movie</th>\n",
       "      <th>gen_Thriller</th>\n",
       "      <th>gen_War</th>\n",
       "      <th>gen_Western</th>\n",
       "    </tr>\n",
       "    <tr>\n",
       "      <th>title</th>\n",
       "      <th></th>\n",
       "      <th></th>\n",
       "      <th></th>\n",
       "      <th></th>\n",
       "      <th></th>\n",
       "      <th></th>\n",
       "      <th></th>\n",
       "      <th></th>\n",
       "      <th></th>\n",
       "      <th></th>\n",
       "      <th></th>\n",
       "      <th></th>\n",
       "      <th></th>\n",
       "      <th></th>\n",
       "      <th></th>\n",
       "      <th></th>\n",
       "      <th></th>\n",
       "      <th></th>\n",
       "      <th></th>\n",
       "      <th></th>\n",
       "    </tr>\n",
       "  </thead>\n",
       "  <tbody>\n",
       "    <tr>\n",
       "      <th>Avatar</th>\n",
       "      <td>1.0</td>\n",
       "      <td>1.0</td>\n",
       "      <td>0.0</td>\n",
       "      <td>0.0</td>\n",
       "      <td>0.0</td>\n",
       "      <td>0.0</td>\n",
       "      <td>0.0</td>\n",
       "      <td>0.0</td>\n",
       "      <td>1.0</td>\n",
       "      <td>0.0</td>\n",
       "      <td>0.0</td>\n",
       "      <td>0.0</td>\n",
       "      <td>0.0</td>\n",
       "      <td>0.0</td>\n",
       "      <td>0.0</td>\n",
       "      <td>1.0</td>\n",
       "      <td>0.0</td>\n",
       "      <td>0.0</td>\n",
       "      <td>0.0</td>\n",
       "      <td>0.0</td>\n",
       "    </tr>\n",
       "    <tr>\n",
       "      <th>Pirates of the Caribbean: At World's End</th>\n",
       "      <td>1.0</td>\n",
       "      <td>1.0</td>\n",
       "      <td>0.0</td>\n",
       "      <td>0.0</td>\n",
       "      <td>0.0</td>\n",
       "      <td>0.0</td>\n",
       "      <td>0.0</td>\n",
       "      <td>0.0</td>\n",
       "      <td>1.0</td>\n",
       "      <td>0.0</td>\n",
       "      <td>0.0</td>\n",
       "      <td>0.0</td>\n",
       "      <td>0.0</td>\n",
       "      <td>0.0</td>\n",
       "      <td>0.0</td>\n",
       "      <td>0.0</td>\n",
       "      <td>0.0</td>\n",
       "      <td>0.0</td>\n",
       "      <td>0.0</td>\n",
       "      <td>0.0</td>\n",
       "    </tr>\n",
       "    <tr>\n",
       "      <th>Spectre</th>\n",
       "      <td>1.0</td>\n",
       "      <td>1.0</td>\n",
       "      <td>0.0</td>\n",
       "      <td>0.0</td>\n",
       "      <td>1.0</td>\n",
       "      <td>0.0</td>\n",
       "      <td>0.0</td>\n",
       "      <td>0.0</td>\n",
       "      <td>0.0</td>\n",
       "      <td>0.0</td>\n",
       "      <td>0.0</td>\n",
       "      <td>0.0</td>\n",
       "      <td>0.0</td>\n",
       "      <td>0.0</td>\n",
       "      <td>0.0</td>\n",
       "      <td>0.0</td>\n",
       "      <td>0.0</td>\n",
       "      <td>0.0</td>\n",
       "      <td>0.0</td>\n",
       "      <td>0.0</td>\n",
       "    </tr>\n",
       "    <tr>\n",
       "      <th>The Dark Knight Rises</th>\n",
       "      <td>1.0</td>\n",
       "      <td>0.0</td>\n",
       "      <td>0.0</td>\n",
       "      <td>0.0</td>\n",
       "      <td>1.0</td>\n",
       "      <td>0.0</td>\n",
       "      <td>1.0</td>\n",
       "      <td>0.0</td>\n",
       "      <td>0.0</td>\n",
       "      <td>0.0</td>\n",
       "      <td>0.0</td>\n",
       "      <td>0.0</td>\n",
       "      <td>0.0</td>\n",
       "      <td>0.0</td>\n",
       "      <td>0.0</td>\n",
       "      <td>0.0</td>\n",
       "      <td>0.0</td>\n",
       "      <td>1.0</td>\n",
       "      <td>0.0</td>\n",
       "      <td>0.0</td>\n",
       "    </tr>\n",
       "    <tr>\n",
       "      <th>John Carter</th>\n",
       "      <td>1.0</td>\n",
       "      <td>1.0</td>\n",
       "      <td>0.0</td>\n",
       "      <td>0.0</td>\n",
       "      <td>0.0</td>\n",
       "      <td>0.0</td>\n",
       "      <td>0.0</td>\n",
       "      <td>0.0</td>\n",
       "      <td>0.0</td>\n",
       "      <td>0.0</td>\n",
       "      <td>0.0</td>\n",
       "      <td>0.0</td>\n",
       "      <td>0.0</td>\n",
       "      <td>0.0</td>\n",
       "      <td>0.0</td>\n",
       "      <td>1.0</td>\n",
       "      <td>0.0</td>\n",
       "      <td>0.0</td>\n",
       "      <td>0.0</td>\n",
       "      <td>0.0</td>\n",
       "    </tr>\n",
       "  </tbody>\n",
       "</table>\n",
       "</div>"
      ],
      "text/plain": [
       "                                          gen_Action  gen_Adventure  \\\n",
       "title                                                                 \n",
       "Avatar                                           1.0            1.0   \n",
       "Pirates of the Caribbean: At World's End         1.0            1.0   \n",
       "Spectre                                          1.0            1.0   \n",
       "The Dark Knight Rises                            1.0            0.0   \n",
       "John Carter                                      1.0            1.0   \n",
       "\n",
       "                                          gen_Animation  gen_Comedy  \\\n",
       "title                                                                 \n",
       "Avatar                                              0.0         0.0   \n",
       "Pirates of the Caribbean: At World's End            0.0         0.0   \n",
       "Spectre                                             0.0         0.0   \n",
       "The Dark Knight Rises                               0.0         0.0   \n",
       "John Carter                                         0.0         0.0   \n",
       "\n",
       "                                          gen_Crime  gen_Documentary  \\\n",
       "title                                                                  \n",
       "Avatar                                          0.0              0.0   \n",
       "Pirates of the Caribbean: At World's End        0.0              0.0   \n",
       "Spectre                                         1.0              0.0   \n",
       "The Dark Knight Rises                           1.0              0.0   \n",
       "John Carter                                     0.0              0.0   \n",
       "\n",
       "                                          gen_Drama  gen_Family  gen_Fantasy  \\\n",
       "title                                                                          \n",
       "Avatar                                          0.0         0.0          1.0   \n",
       "Pirates of the Caribbean: At World's End        0.0         0.0          1.0   \n",
       "Spectre                                         0.0         0.0          0.0   \n",
       "The Dark Knight Rises                           1.0         0.0          0.0   \n",
       "John Carter                                     0.0         0.0          0.0   \n",
       "\n",
       "                                          gen_Foreign  gen_History  \\\n",
       "title                                                                \n",
       "Avatar                                            0.0          0.0   \n",
       "Pirates of the Caribbean: At World's End          0.0          0.0   \n",
       "Spectre                                           0.0          0.0   \n",
       "The Dark Knight Rises                             0.0          0.0   \n",
       "John Carter                                       0.0          0.0   \n",
       "\n",
       "                                          gen_Horror  gen_Music  gen_Mystery  \\\n",
       "title                                                                          \n",
       "Avatar                                           0.0        0.0          0.0   \n",
       "Pirates of the Caribbean: At World's End         0.0        0.0          0.0   \n",
       "Spectre                                          0.0        0.0          0.0   \n",
       "The Dark Knight Rises                            0.0        0.0          0.0   \n",
       "John Carter                                      0.0        0.0          0.0   \n",
       "\n",
       "                                          gen_Romance  gen_Science Fiction  \\\n",
       "title                                                                        \n",
       "Avatar                                            0.0                  1.0   \n",
       "Pirates of the Caribbean: At World's End          0.0                  0.0   \n",
       "Spectre                                           0.0                  0.0   \n",
       "The Dark Knight Rises                             0.0                  0.0   \n",
       "John Carter                                       0.0                  1.0   \n",
       "\n",
       "                                          gen_TV Movie  gen_Thriller  gen_War  \\\n",
       "title                                                                           \n",
       "Avatar                                             0.0           0.0      0.0   \n",
       "Pirates of the Caribbean: At World's End           0.0           0.0      0.0   \n",
       "Spectre                                            0.0           0.0      0.0   \n",
       "The Dark Knight Rises                              0.0           1.0      0.0   \n",
       "John Carter                                        0.0           0.0      0.0   \n",
       "\n",
       "                                          gen_Western  \n",
       "title                                                  \n",
       "Avatar                                            0.0  \n",
       "Pirates of the Caribbean: At World's End          0.0  \n",
       "Spectre                                           0.0  \n",
       "The Dark Knight Rises                             0.0  \n",
       "John Carter                                       0.0  "
      ]
     },
     "execution_count": 3,
     "metadata": {},
     "output_type": "execute_result"
    }
   ],
   "source": [
    "data = pd.read_csv(\"../../10/tmdb_5000_movies.csv\")\n",
    "# Nastavíme index\n",
    "data = data.set_index(\"title\")\n",
    "# Ponecháme v datech pouze sloupce od gen_Action po gen_Western\n",
    "data_genres = data.loc[:, \"gen_Action\":\"gen_Western\"]\n",
    "data_genres.head()"
   ]
  },
  {
   "cell_type": "code",
   "execution_count": 4,
   "metadata": {},
   "outputs": [
    {
     "data": {
      "text/plain": [
       "gen_Action       1.0\n",
       "gen_Adventure    1.0\n",
       "gen_Crime        1.0\n",
       "gen_Mystery      1.0\n",
       "gen_Thriller     1.0\n",
       "Name: The Fugitive, dtype: float64"
      ]
     },
     "execution_count": 4,
     "metadata": {},
     "output_type": "execute_result"
    }
   ],
   "source": [
    "# odfiltrujeme jen zanry patrici k filmu The Fugitive\n",
    "data_genres.loc[\"The Fugitive\"][data_genres.loc[\"The Fugitive\"]==1]"
   ]
  },
  {
   "cell_type": "code",
   "execution_count": 11,
   "metadata": {},
   "outputs": [
    {
     "data": {
      "text/plain": [
       "gen_Crime       1.0\n",
       "gen_Drama       1.0\n",
       "gen_Romance     1.0\n",
       "gen_Thriller    1.0\n",
       "Name: Witness, dtype: float64"
      ]
     },
     "execution_count": 11,
     "metadata": {},
     "output_type": "execute_result"
    }
   ],
   "source": [
    "# odfiltrujeme jen zanry patrici k filmu Witness\n",
    "data_genres.loc[\"Witness\"][data_genres.loc[\"Witness\"]==1]"
   ]
  },
  {
   "cell_type": "code",
   "execution_count": 5,
   "metadata": {},
   "outputs": [
    {
     "data": {
      "text/plain": [
       "0.2857142857142857"
      ]
     },
     "execution_count": 5,
     "metadata": {},
     "output_type": "execute_result"
    }
   ],
   "source": [
    "# Výpočet Jaccardova skóre mezi dvěma filmy (\"The Fugitive\" a \"Witness\")\n",
    "# funkce jaccard_score vyžaduje na vstupu dva seznamy hodnot\n",
    "jaccard_score(data_genres.loc[\"The Fugitive\"], data_genres.loc[\"Witness\"])"
   ]
  },
  {
   "cell_type": "code",
   "execution_count": 6,
   "metadata": {},
   "outputs": [
    {
     "data": {
      "text/plain": [
       "0.14285714285714285"
      ]
     },
     "execution_count": 6,
     "metadata": {},
     "output_type": "execute_result"
    }
   ],
   "source": [
    "# Výpočet Jaccardova skóre mezi dvěma filmy (\"The Fugitive\" a \"Titanic\")\n",
    "jaccard_score(data_genres.loc[\"The Fugitive\"], data_genres.loc[\"Titanic\"])"
   ]
  },
  {
   "cell_type": "code",
   "execution_count": 12,
   "metadata": {},
   "outputs": [],
   "source": [
    "# Výpočet Jaccardových vzdáleností mezi všemi páry filmů v `data_genres`\n",
    "# pdist funkce vypočítá vzdálenostní metriku (v tomto případě Jaccardovu vzdálenost) mezi všemi páry řádků v tabulce (Na rozdíl od jaccard_score, ktery vraci skóre mezi dvěma vektory)\n",
    "jaccard_distances = pdist(data_genres, metric=\"jaccard\")\n",
    "# Převedení vektorové formy Jaccardových vzdáleností na čtvercovou matici\n",
    "jaccard_distances = squareform(jaccard_distances)\n",
    "# Převod Jaccardových vzdáleností na Jaccardovo skóre (podobnost)\n",
    "jaccard_score_data = 1 - jaccard_distances"
   ]
  },
  {
   "cell_type": "code",
   "execution_count": 14,
   "metadata": {},
   "outputs": [],
   "source": [
    "# Vytvoření DataFrame z matice Jaccardových skóre\n",
    "# index a sloupce nastavíme podle indexů původní tabulky `data_genres`\n",
    "jaccard_score_df = pd.DataFrame(jaccard_score_data, index=data_genres.index, columns=data_genres.index)"
   ]
  },
  {
   "cell_type": "code",
   "execution_count": 15,
   "metadata": {},
   "outputs": [
    {
     "data": {
      "text/plain": [
       "title\n",
       "The Losers                 1.000000\n",
       "The Fugitive               1.000000\n",
       "Nancy Drew                 0.833333\n",
       "The Negotiator             0.833333\n",
       "xXx: State of the Union    0.833333\n",
       "                             ...   \n",
       "Hot Tub Time Machine 2     0.000000\n",
       "Quills                     0.000000\n",
       "Invictus                   0.000000\n",
       "Downfall                   0.000000\n",
       "My Date with Drew          0.000000\n",
       "Name: The Fugitive, Length: 4803, dtype: float64"
      ]
     },
     "execution_count": 15,
     "metadata": {},
     "output_type": "execute_result"
    }
   ],
   "source": [
    "# Výběr Jaccardových skóre pro film \"The Fugitive\" a jejich seřazení podle hodnot od nejvyšší po nejnižší\n",
    "# Tím získáme filmy, které jsou žánrově nejpodobnější filmu \"The Fugitive\"\n",
    "jaccard_score_df.loc[\"The Fugitive\"].sort_values(ascending=False)"
   ]
  },
  {
   "cell_type": "markdown",
   "metadata": {},
   "source": [
    "### Bonus"
   ]
  },
  {
   "cell_type": "code",
   "execution_count": 66,
   "metadata": {},
   "outputs": [],
   "source": [
    "# Převod sloupce 'release_date' na datový typ datetime\n",
    "data['release_date'] = pd.to_datetime(data['release_date'])\n",
    "\n",
    "# Extrahování roku z 'release_date' a uložení do nového sloupce 'release_year'\n",
    "data['release_year'] = data['release_date'].dt.year\n",
    "\n",
    "# Definice rozmezí pro dekády\n",
    "bins = [1979, 1989, 1999, 2009, 2019, 2029]\n",
    "\n",
    "# Definice popisek pro jednotlivé dekády\n",
    "labels = ['1980s', '1990s', '2000s', '2010s', '2020s']\n",
    "\n",
    "# Kategorizace roku vydání filmu do dekád a přidání do nového sloupce 'decade'\n",
    "data['decade'] = pd.cut(data['release_year'], bins=bins, labels=labels)"
   ]
  },
  {
   "cell_type": "code",
   "execution_count": 70,
   "metadata": {},
   "outputs": [],
   "source": [
    "jaccard_score_df[\"decade\"] = data[\"decade\"]"
   ]
  },
  {
   "cell_type": "markdown",
   "metadata": {},
   "source": [
    "pokud se někomu líbí spíše starší filmy, pravděpodobně mu bude lepší doporučit nějaký starší film. Upravíme tedy náš systém tak, aby doporučoval pouze filmy ze stejné dekády."
   ]
  },
  {
   "cell_type": "code",
   "execution_count": 72,
   "metadata": {},
   "outputs": [
    {
     "data": {
      "text/plain": [
       "title\n",
       "The Fugitive                       1.000000\n",
       "The Negotiator                     0.833333\n",
       "The River Wild                     0.800000\n",
       "The Corruptor                      0.800000\n",
       "Switchback                         0.800000\n",
       "Ronin                              0.800000\n",
       "The Jackal                         0.800000\n",
       "Assassins                          0.800000\n",
       "The Long Kiss Goodnight            0.800000\n",
       "Dick Tracy                         0.666667\n",
       "The Net                            0.666667\n",
       "The Limey                          0.666667\n",
       "The Adventures of Ford Fairlane    0.666667\n",
       "The Glimmer Man                    0.666667\n",
       "RoboCop 3                          0.666667\n",
       "Smilla's Sense of Snow             0.666667\n",
       "Lethal Weapon 4                    0.666667\n",
       "Lethal Weapon 3                    0.666667\n",
       "8MM                                0.600000\n",
       "Se7en                              0.600000\n",
       "Name: The Fugitive, dtype: float64"
      ]
     },
     "execution_count": 72,
     "metadata": {},
     "output_type": "execute_result"
    }
   ],
   "source": [
    "# Získání dekády, do které patří film \"The Fugitive\"\n",
    "decade = jaccard_score_df.loc[\"The Fugitive\", \"decade\"]\n",
    "# Filtrace filmů, které patří do stejné dekády jako \"The Fugitive\"\n",
    "movies_from_decade = jaccard_score_df[jaccard_score_df[\"decade\"] == decade]\n",
    "# Seřazení filmů z této dekády podle jejich Jaccardova skóre vzhledem k filmu \"The Fugitive\"\n",
    "movies_from_decade[\"The Fugitive\"].sort_values(ascending=False).head(20)\n"
   ]
  },
  {
   "cell_type": "code",
   "execution_count": null,
   "metadata": {},
   "outputs": [],
   "source": []
  }
 ],
 "metadata": {
  "kernelspec": {
   "display_name": ".venv",
   "language": "python",
   "name": "python3"
  },
  "language_info": {
   "codemirror_mode": {
    "name": "ipython",
    "version": 3
   },
   "file_extension": ".py",
   "mimetype": "text/x-python",
   "name": "python",
   "nbconvert_exporter": "python",
   "pygments_lexer": "ipython3",
   "version": "3.11.5"
  }
 },
 "nbformat": 4,
 "nbformat_minor": 2
}
